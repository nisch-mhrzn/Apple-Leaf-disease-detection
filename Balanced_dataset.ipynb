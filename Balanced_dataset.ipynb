{
  "nbformat": 4,
  "nbformat_minor": 0,
  "metadata": {
    "colab": {
      "provenance": []
    },
    "kernelspec": {
      "name": "python3",
      "display_name": "Python 3"
    },
    "language_info": {
      "name": "python"
    },
    "accelerator": "GPU",
    "gpuClass": "standard"
  },
  "cells": [
    {
      "cell_type": "code",
      "execution_count": null,
      "metadata": {
        "id": "bznGGj_-AfJv"
      },
      "outputs": [],
      "source": [
        "# Import required libraries\n",
        "import tensorflow as tf\n",
        "from tensorflow import keras\n",
        "from keras.preprocessing.image import ImageDataGenerator\n",
        "from keras.models import Sequential\n",
        "from keras.layers import Conv2D, MaxPool2D\n",
        "from keras.layers import Activation, Dropout, Flatten, Dense\n",
        "from sklearn.metrics import confusion_matrix\n",
        "import matplotlib.pyplot as plt\n",
        "from keras.callbacks import EarlyStopping\n",
        "from keras import models,layers\n",
        "from tensorflow.python.keras.utils.data_utils import Sequence\n",
        "from keras.optimizers import Adam\n",
        "import numpy as np\n"
      ]
    },
    {
      "cell_type": "code",
      "source": [
        "train_path = '/content/drive/MyDrive/APPLE/train'\n",
        "test_path = '/content/drive/MyDrive/APPLE/test'"
      ],
      "metadata": {
        "id": "n80wrd4zgmSk"
      },
      "execution_count": null,
      "outputs": []
    },
    {
      "cell_type": "code",
      "source": [
        "# Load the dataset\n",
        "train_datagen = ImageDataGenerator(\n",
        "      rescale = 1./255,\n",
        "      rotation_range=40,\n",
        "      width_shift_range=0.2,                # Applaying these all Data Augmentations\n",
        "      height_shift_range=0.2,\n",
        "      shear_range=0.2,\n",
        "      zoom_range=0.2,\n",
        "      horizontal_flip=True,\n",
        "      fill_mode='nearest')\n",
        "test_datagen = ImageDataGenerator(rescale = 1./255)"
      ],
      "metadata": {
        "id": "38Oo-QftBqwP"
      },
      "execution_count": null,
      "outputs": []
    },
    {
      "cell_type": "code",
      "source": [
        "train_batches = train_datagen.flow_from_directory(\n",
        "    train_path,\n",
        "    target_size=(256,256),\n",
        "    batch_size=32,\n",
        "    class_mode='categorical')"
      ],
      "metadata": {
        "colab": {
          "base_uri": "https://localhost:8080/"
        },
        "id": "8LYCsNwnMzhJ",
        "outputId": "1555df37-e876-449f-cb62-bc244f48bc06"
      },
      "execution_count": null,
      "outputs": [
        {
          "output_type": "stream",
          "name": "stdout",
          "text": [
            "Found 8064 images belonging to 4 classes.\n"
          ]
        }
      ]
    },
    {
      "cell_type": "code",
      "source": [
        "test_batches = test_datagen.flow_from_directory(\n",
        "    test_path,\n",
        "    target_size=(256,256),\n",
        "    batch_size=32,\n",
        "    class_mode='categorical')"
      ],
      "metadata": {
        "colab": {
          "base_uri": "https://localhost:8080/"
        },
        "id": "yL1GdvpiB0LD",
        "outputId": "1ec17ce0-e441-498a-b4ea-be51646f491c"
      },
      "execution_count": null,
      "outputs": [
        {
          "output_type": "stream",
          "name": "stdout",
          "text": [
            "Found 1943 images belonging to 4 classes.\n"
          ]
        }
      ]
    },
    {
      "cell_type": "code",
      "source": [
        "import os\n",
        "\n",
        "# Define the paths to the directories containing the images for each label\n",
        "apple_scab_path = '/content/drive/MyDrive/APPLE/train/apple_scab'\n",
        "black_rot_path = '/content/drive/MyDrive/APPLE/train/black_rot'\n",
        "cedar_apple_rust_path = '/content/drive/MyDrive/APPLE/train/cedar_apple_rust'\n",
        "healthy_path = '/content/drive/MyDrive/APPLE/train/healthy'\n",
        "\n",
        "# Count the number of images in each directory\n",
        "apple_scab_count = len(os.listdir(apple_scab_path))\n",
        "black_rot_count = len(os.listdir(black_rot_path))\n",
        "cedar_apple_rust_count = len(os.listdir(cedar_apple_rust_path))\n",
        "healthy_count = len(os.listdir(healthy_path))"
      ],
      "metadata": {
        "id": "rki12poq6UB-"
      },
      "execution_count": null,
      "outputs": []
    },
    {
      "cell_type": "code",
      "source": [
        "import matplotlib.pyplot as plt \n",
        "# Define the labels and sizes for the pie chart \n",
        "labels = ['apple_scab', 'black_rot', 'cedar_apple_rust', 'healthy'] \n",
        "sizes = [apple_scab_count, black_rot_count, cedar_apple_rust_count, healthy_count] \n",
        "# Create the pie chart \n",
        "plt.figure(figsize=(6,6)) \n",
        "plt.pie(sizes, labels=labels, autopct='%1.1f%%', startangle=90, explode=[0.05]*4) \n",
        "plt.title('Class Distribution') \n",
        "plt.axis('equal') \n",
        "plt.show() \n",
        "# Create the bar graph \n",
        "plt.figure(figsize=(6,6)) \n",
        "plt.bar(labels, sizes)\n",
        "plt.title('Class Distribution') \n",
        "plt.show() \n"
      ],
      "metadata": {
        "colab": {
          "base_uri": "https://localhost:8080/",
          "height": 747
        },
        "id": "jREaPZJN56fe",
        "outputId": "4f30e16d-aca6-4d4d-bc5a-9f7e9f594b04"
      },
      "execution_count": null,
      "outputs": [
        {
          "output_type": "display_data",
          "data": {
            "text/plain": [
              "<Figure size 432x432 with 1 Axes>"
            ],
            "image/png": "[encoded data removed]"
          },
          "metadata": {}
        },
        {
          "output_type": "display_data",
          "data": {
            "text/plain": [
              "<Figure size 432x432 with 1 Axes>"
            ],
            "image/png": "[encoded data removed]"
          },
          "metadata": {
            "needs_background": "light"
          }
        }
      ]
    },
    {
      "cell_type": "markdown",
      "source": [
        "# 5 layers CNN model \n",
        "\n",
        "\n"
      ],
      "metadata": {
        "id": "AE3GvJrnPXcr"
      }
    },
    {
      "cell_type": "code",
      "source": [
        "model =Sequential([\n",
        "    Conv2D(filters =32,kernel_size =(3,3),activation ='relu',padding ='same',input_shape=(256,256,3)),\n",
        "    MaxPool2D(pool_size=(2,2),strides=2),#each  conv layer is followed by maxpool layer\n",
        "\n",
        "    Conv2D(filters=64,kernel_size=(3,3),activation ='relu',padding ='same'),\n",
        "    MaxPool2D(pool_size=(2,2),strides =2),\n",
        "\n",
        "    Conv2D(filters=128,kernel_size=(3,3),activation ='relu',padding='same'),\n",
        "    MaxPool2D(pool_size=(2,2),strides=2),\n",
        "\n",
        "    Conv2D(filters=256,kernel_size =(3,3),activation ='relu',padding ='same'),\n",
        "    MaxPool2D(pool_size =(2,2),strides=2),\n",
        "\n",
        "    Conv2D(filters=128,kernel_size =(3,3),activation ='relu',padding ='same'),\n",
        "    Flatten(),\n",
        "    Dropout(0.5),#The dropout rate is set to 0.5, meaning that half of the neurons in each dense layer will be dropped out during each training iteration.\n",
        "    Dense(units=4,activation='softmax')\n",
        "    \n",
        "])"
      ],
      "metadata": {
        "id": "_rdG2xSkCXPF"
      },
      "execution_count": null,
      "outputs": []
    },
    {
      "cell_type": "code",
      "source": [
        "model.summary()"
      ],
      "metadata": {
        "colab": {
          "base_uri": "https://localhost:8080/"
        },
        "id": "XY5h-11SUxKY",
        "outputId": "3ecc3b61-1fbe-40f8-d09e-1fb89331cbf7"
      },
      "execution_count": null,
      "outputs": [
        {
          "output_type": "stream",
          "name": "stdout",
          "text": [
            "Model: \"sequential\"\n",
            "_________________________________________________________________\n",
            " Layer (type)                Output Shape              Param #   \n",
            "=================================================================\n",
            " conv2d (Conv2D)             (None, 256, 256, 32)      896       \n",
            "                                                                 \n",
            " max_pooling2d (MaxPooling2D  (None, 128, 128, 32)     0         \n",
            " )                                                               \n",
            "                                                                 \n",
            " conv2d_1 (Conv2D)           (None, 128, 128, 64)      18496     \n",
            "                                                                 \n",
            " max_pooling2d_1 (MaxPooling  (None, 64, 64, 64)       0         \n",
            " 2D)                                                             \n",
            "                                                                 \n",
            " conv2d_2 (Conv2D)           (None, 64, 64, 128)       73856     \n",
            "                                                                 \n",
            " max_pooling2d_2 (MaxPooling  (None, 32, 32, 128)      0         \n",
            " 2D)                                                             \n",
            "                                                                 \n",
            " conv2d_3 (Conv2D)           (None, 32, 32, 256)       295168    \n",
            "                                                                 \n",
            " max_pooling2d_3 (MaxPooling  (None, 16, 16, 256)      0         \n",
            " 2D)                                                             \n",
            "                                                                 \n",
            " conv2d_4 (Conv2D)           (None, 16, 16, 128)       295040    \n",
            "                                                                 \n",
            " flatten (Flatten)           (None, 32768)             0         \n",
            "                                                                 \n",
            " dropout (Dropout)           (None, 32768)             0         \n",
            "                                                                 \n",
            " dense (Dense)               (None, 4)                 131076    \n",
            "                                                                 \n",
            "=================================================================\n",
            "Total params: 814,532\n",
            "Trainable params: 814,532\n",
            "Non-trainable params: 0\n",
            "_________________________________________________________________\n"
          ]
        }
      ]
    },
    {
      "cell_type": "code",
      "source": [
        "from keras.optimizers import Adam\n",
        "\n",
        "\n",
        "from keras.metrics import categorical_crossentropy\n",
        "model.compile(optimizer=Adam(), loss='categorical_crossentropy', metrics=['accuracy'])\n",
        "\n"
      ],
      "metadata": {
        "id": "qi5yhHCmU2wI"
      },
      "execution_count": null,
      "outputs": []
    },
    {
      "cell_type": "markdown",
      "source": [
        "# ***Validation part***\n"
      ],
      "metadata": {
        "id": "gXEeKOMEXEsU"
      }
    },
    {
      "cell_type": "code",
      "source": [
        "#Define early stopping\n",
        "early_stopping = EarlyStopping(monitor='val_loss', patience=4, mode='min')"
      ],
      "metadata": {
        "id": "iOe842V_VVPj"
      },
      "execution_count": null,
      "outputs": []
    },
    {
      "cell_type": "code",
      "source": [
        "# Fit the model on the train data\n",
        "r= model.fit(train_batches,\n",
        "    validation_data=test_batches,\n",
        "    epochs=20,\n",
        "    steps_per_epoch=len(train_batches),\n",
        "    validation_steps=len(test_batches),\n",
        "    callbacks=[early_stopping]\n",
        ")"
      ],
      "metadata": {
        "colab": {
          "base_uri": "https://localhost:8080/"
        },
        "id": "1PmsI-JcVtSS",
        "outputId": "9f717f9a-a706-42ed-f13a-596afded6a45"
      },
      "execution_count": null,
      "outputs": [
        {
          "output_type": "stream",
          "name": "stdout",
          "text": [
            "Epoch 1/20\n",
            "252/252 [==============================] - 2691s 11s/step - loss: 0.7969 - accuracy: 0.6505 - val_loss: 0.4750 - val_accuracy: 0.8209\n",
            "Epoch 2/20\n",
            "252/252 [==============================] - 152s 602ms/step - loss: 0.5209 - accuracy: 0.7934 - val_loss: 0.6052 - val_accuracy: 0.7694\n",
            "Epoch 3/20\n",
            "252/252 [==============================] - 154s 611ms/step - loss: 0.3177 - accuracy: 0.8769 - val_loss: 0.2621 - val_accuracy: 0.8981\n",
            "Epoch 4/20\n",
            "252/252 [==============================] - 156s 619ms/step - loss: 0.1971 - accuracy: 0.9232 - val_loss: 0.1621 - val_accuracy: 0.9346\n",
            "Epoch 5/20\n",
            "252/252 [==============================] - 152s 604ms/step - loss: 0.1687 - accuracy: 0.9359 - val_loss: 0.1067 - val_accuracy: 0.9629\n",
            "Epoch 6/20\n",
            "252/252 [==============================] - 156s 620ms/step - loss: 0.1117 - accuracy: 0.9608 - val_loss: 0.0814 - val_accuracy: 0.9696\n",
            "Epoch 7/20\n",
            "252/252 [==============================] - 155s 615ms/step - loss: 0.0991 - accuracy: 0.9656 - val_loss: 0.0621 - val_accuracy: 0.9789\n",
            "Epoch 8/20\n",
            "252/252 [==============================] - 158s 626ms/step - loss: 0.1330 - accuracy: 0.9575 - val_loss: 0.0641 - val_accuracy: 0.9743\n",
            "Epoch 9/20\n",
            "252/252 [==============================] - 157s 622ms/step - loss: 0.0581 - accuracy: 0.9807 - val_loss: 0.0928 - val_accuracy: 0.9686\n",
            "Epoch 10/20\n",
            "252/252 [==============================] - 159s 631ms/step - loss: 0.0548 - accuracy: 0.9807 - val_loss: 0.2343 - val_accuracy: 0.9315\n",
            "Epoch 11/20\n",
            "252/252 [==============================] - 156s 620ms/step - loss: 0.0687 - accuracy: 0.9769 - val_loss: 0.0168 - val_accuracy: 0.9943\n",
            "Epoch 12/20\n",
            "252/252 [==============================] - 154s 609ms/step - loss: 0.0526 - accuracy: 0.9824 - val_loss: 0.0140 - val_accuracy: 0.9954\n",
            "Epoch 13/20\n",
            "107/252 [===========>..................] - ETA: 1:23 - loss: 0.0644 - accuracy: 0.9763"
          ]
        }
      ]
    },
    {
      "cell_type": "code",
      "source": [
        "predictions =model.predict(x=test_batches,steps=len(test_batches), verbose=0)"
      ],
      "metadata": {
        "id": "QcTtXihpLgq1"
      },
      "execution_count": null,
      "outputs": []
    },
    {
      "cell_type": "code",
      "source": [
        "#plot the loss\n",
        "plt.plot(r.history['loss'],label='train')\n",
        "plt.plot(r.history['val_loss'],label='val')\n",
        "plt.xlabel('Epoch')\n",
        "plt.ylabel('Loss')\n",
        "plt.legend()\n",
        "plt.show()\n",
        "plt.savefig('LossVal_loss')\n",
        "\n",
        "#Plot the accuracy\n",
        "plt.plot(r.history['accuracy'],label='train')\n",
        "plt.plot(r.history['val_accuracy'],label='val')\n",
        "plt.xlabel('Epoch')\n",
        "plt.ylabel('Accuracy')\n",
        "plt.legend()\n",
        "plt.show()\n",
        "plt.savefig('Accval_acc')"
      ],
      "metadata": {
        "id": "GaS8E06WUaHL"
      },
      "execution_count": null,
      "outputs": []
    },
    {
      "cell_type": "code",
      "source": [
        "loss, acc = model.evaluate(test_batches, verbose=0)\n",
        "print('Test accuracy:', acc)\n",
        "print('Test Loss:',loss)"
      ],
      "metadata": {
        "id": "H-DZh4DVX9Ro"
      },
      "execution_count": null,
      "outputs": []
    },
    {
      "cell_type": "code",
      "source": [
        "print(model.evaluate(x=test_batches))"
      ],
      "metadata": {
        "id": "X5ZsGokE4XZT"
      },
      "execution_count": null,
      "outputs": []
    },
    {
      "cell_type": "code",
      "source": [
        "test_batches.class_indices"
      ],
      "metadata": {
        "id": "TjXaODik5Wb4"
      },
      "execution_count": null,
      "outputs": []
    },
    {
      "cell_type": "code",
      "source": [
        "cm= confusion_matrix(y_true=test_batches.classes,y_pred=np.argmax(predictions, axis=-1))"
      ],
      "metadata": {
        "id": "5KuHa_s25S8b"
      },
      "execution_count": null,
      "outputs": []
    },
    {
      "cell_type": "code",
      "source": [
        "import numpy as np\n",
        "np.round(predictions)"
      ],
      "metadata": {
        "id": "OqwO61q35Z1a"
      },
      "execution_count": null,
      "outputs": []
    },
    {
      "cell_type": "code",
      "source": [
        "import itertools\n",
        "def plot_confusion_matrix(cm, classes,\n",
        "                          normalize=False,\n",
        "                          title='Confusion matrix',\n",
        "                          cmap=plt.cm.Reds):\n",
        "    \"\"\"\n",
        "    This function prints and plots the confusion matrix.\n",
        "    Normalization can be applied by setting `normalize=True`.\n",
        "    \"\"\"\n",
        "    plt.figure(figsize=(20, 20))\n",
        "    plt.imshow(cm, interpolation='nearest', cmap=cmap)\n",
        "    plt.title(title)\n",
        "    plt.colorbar()\n",
        "    tick_marks = np.arange(len(classes))\n",
        "    plt.xticks(tick_marks, classes, rotation=45)\n",
        "    plt.yticks(tick_marks, classes)\n",
        "    \n",
        "    if normalize:\n",
        "        cm = cm.astype('float') / cm.sum(axis=1)[:, np.newaxis]\n",
        "        print(\"Normalized confusion matrix\")\n",
        "    else:\n",
        "        print('Confusion matrix, without normalization')\n",
        "\n",
        "    print(cm)\n",
        "\n",
        "    thresh = cm.max()/2.\n",
        "    for i, j in itertools.product(range(cm.shape[0]), range(cm.shape[1])):\n",
        "        plt.text(j, i, cm[i, j],\n",
        "            horizontalalignment=\"center\",\n",
        "            color=\"white\" if cm[i, j] > thresh else \"black\")\n",
        "\n",
        "    plt.tight_layout()\n",
        "    plt.ylabel('True label')\n",
        "    plt.xlabel('Predicted label')\n"
      ],
      "metadata": {
        "id": "x8lFMXpuukzc"
      },
      "execution_count": null,
      "outputs": []
    },
    {
      "cell_type": "code",
      "source": [
        "cm_plot_labels=['0','1','2','3']\n",
        "plot_confusion_matrix(cm=cm, classes=cm_plot_labels, title='Confusion Matrix')"
      ],
      "metadata": {
        "id": "Xqr6ajj95plh"
      },
      "execution_count": null,
      "outputs": []
    },
    {
      "cell_type": "code",
      "source": [
        "from keras.models import load_model\n",
        "model.save('/content/drive/MyDrive/Project/Trained model/balanced_cnn_model1.h5')"
      ],
      "metadata": {
        "id": "vazE1AV85szq"
      },
      "execution_count": null,
      "outputs": []
    },
    {
      "cell_type": "code",
      "source": [
        "from sklearn.metrics import precision_recall_fscore_support\n",
        "\n",
        "# Predict the class probabilities for the validation set using the model\n",
        "y_pred = model.predict(test_batches)\n",
        "\n",
        "# Convert the class probabilities to class labels\n",
        "y_pred_labels = np.argmax(y_pred, axis=1)\n",
        "\n",
        "# Get the true class labels for the validation set\n",
        "y_true_labels = test_batches.classes\n",
        "\n",
        "# Get the class names from the generator\n",
        "class_names = list(test_batches.class_indices.keys())\n",
        "\n",
        "# Calculate precision, recall, and F1 score separately for each class\n",
        "precision, recall, f1_score, _ = precision_recall_fscore_support(y_true_labels, y_pred_labels)\n",
        "\n",
        "# Print the results for each class\n",
        "for i, class_name in enumerate(class_names):\n",
        "    print(f\"Metrics for class '{class_name}':\")\n",
        "    print(f\"Precision: {precision[i]}\")\n",
        "    print(f\"Recall: {recall[i]}\")\n",
        "    print(f\"F1 score: {f1_score[i]}\")\n",
        "    print()"
      ],
      "metadata": {
        "id": "8MbDMiL81H1o"
      },
      "execution_count": null,
      "outputs": []
    },
    {
      "cell_type": "code",
      "source": [
        "import numpy as np\n",
        "from sklearn.metrics import roc_auc_score\n",
        "\n",
        "# Predict the class probabilities for the validation set using the model\n",
        "y_pred = model.predict(test_batches)\n",
        "\n",
        "# Get the true class labels for the validation set\n",
        "y_true_labels = test_batches.classes\n",
        "\n",
        "# Calculate the ROC AUC score for each class\n",
        "roc_auc_scores = roc_auc_score(y_true_labels, y_pred, multi_class='ovr')\n",
        "\n",
        "# Print the overall ROC AUC score\n",
        "print(f\"Overall ROC AUC score: {roc_auc_scores}\")"
      ],
      "metadata": {
        "id": "TlwVcFg01VRK"
      },
      "execution_count": null,
      "outputs": []
    },
    {
      "cell_type": "markdown",
      "source": [
        "# **Predictions**"
      ],
      "metadata": {
        "id": "O1VuD36k1xnR"
      }
    },
    {
      "cell_type": "code",
      "source": [
        "from keras.models import load_model\n",
        "from keras.utils import load_img, img_to_array"
      ],
      "metadata": {
        "id": "VW1nfUOU1kx5"
      },
      "execution_count": null,
      "outputs": []
    },
    {
      "cell_type": "code",
      "source": [
        "model = load_model('/content/drive/MyDrive/Project/Trained model/balanced_cnn_model1')\n",
        "img = load_img('/content/drive/MyDrive/APPLE/test/apple_scab/00075aa8-d81a-4184-8541-b692b78d398a___FREC_Scab 3335_270deg.JPG', target_size=(256, 256))\n",
        "img_arr = img_to_array(img)"
      ],
      "metadata": {
        "id": "DDQkMVy6-eQK"
      },
      "execution_count": null,
      "outputs": []
    },
    {
      "cell_type": "code",
      "source": [
        "img_arr = img_arr / 255.0\n",
        "img_arr = np.expand_dims(img_arr, axis=0)"
      ],
      "metadata": {
        "id": "4wSrwNXl1m_5"
      },
      "execution_count": null,
      "outputs": []
    },
    {
      "cell_type": "code",
      "source": [
        "prediction = model.predict(img_arr)\n",
        "class_label = np.argmax(prediction)"
      ],
      "metadata": {
        "id": "xs61Q7o41s0S"
      },
      "execution_count": null,
      "outputs": []
    },
    {
      "cell_type": "code",
      "source": [
        "class_names = {0: 'apple_scab', 1: 'black_rot', 2: 'cedar_apple_rust', 3: 'healthy'}\n",
        "predicted_class = class_names[class_label]\n",
        "print(predicted_class)"
      ],
      "metadata": {
        "id": "Lz4L0ivy1ueK"
      },
      "execution_count": null,
      "outputs": []
    }
  ]
}